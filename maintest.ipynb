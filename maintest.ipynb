{
 "cells": [
  {
   "cell_type": "code",
   "execution_count": 2,
   "id": "61d4b901",
   "metadata": {},
   "outputs": [],
   "source": [
    "import kagglehub\n",
    "import pandas as pd\n",
    "import json\n",
    "import os"
   ]
  },
  {
   "cell_type": "code",
   "execution_count": null,
   "id": "d6c25737",
   "metadata": {},
   "outputs": [
    {
     "name": "stdout",
     "output_type": "stream",
     "text": [
      "Warning: Looks like you're using an outdated `kagglehub` version, please consider updating (latest version: 0.3.11)\n",
      "Downloading from https://www.kaggle.com/api/v1/datasets/download/a2015003713/militaryaircraftdetectiondataset?dataset_version_number=87...\n"
     ]
    },
    {
     "name": "stderr",
     "output_type": "stream",
     "text": [
      "100%|██████████| 9.94G/9.94G [1:53:13<00:00, 1.57MB/s]  "
     ]
    },
    {
     "name": "stdout",
     "output_type": "stream",
     "text": [
      "Extracting files...\n"
     ]
    },
    {
     "name": "stderr",
     "output_type": "stream",
     "text": [
      "\n"
     ]
    },
    {
     "name": "stdout",
     "output_type": "stream",
     "text": [
      "Path to dataset files: C:\\Users\\alkan\\.cache\\kagglehub\\datasets\\a2015003713\\militaryaircraftdetectiondataset\\versions\\87\n"
     ]
    }
   ],
   "source": [
    "# Download latest version\n",
    "path = kagglehub.dataset_download(\"a2015003713/militaryaircraftdetectiondataset\")\n",
    "\n",
    "print(\"Path to dataset files:\", path)"
   ]
  },
  {
   "cell_type": "code",
   "execution_count": null,
   "id": "81f33c1a",
   "metadata": {},
   "outputs": [],
   "source": [
    "def convert_single_excel_to_json(excel_path, output_dir):\n",
    "    df = pd.read_csv(excel_path)  # ya da pd.read_excel(...) eğer xlsx ise\n",
    "\n",
    "    if df.empty:\n",
    "        print(\"❌ Dosya boş.\")\n",
    "        return\n",
    "\n",
    "    # Tek bir görsel için etiketler var\n",
    "    first_row = df.iloc[0]\n",
    "    filename = first_row[\"filename\"]\n",
    "    width = int(first_row[\"width\"])\n",
    "    height = int(first_row[\"height\"])\n",
    "\n",
    "    objects = []\n",
    "    for _, row in df.iterrows():\n",
    "        obj = {\n",
    "            \"name\": row[\"class\"],\n",
    "            \"bndbox\": {\n",
    "                \"xmin\": str(int(row[\"xmin\"])),\n",
    "                \"xmax\": str(int(row[\"xmax\"])),\n",
    "                \"ymin\": str(int(row[\"ymin\"])),\n",
    "                \"ymax\": str(int(row[\"ymax\"]))\n",
    "            }\n",
    "        }\n",
    "        objects.append(obj)\n",
    "\n",
    "    label_json = {\n",
    "        \"annotation\": {\n",
    "            \"filename\": filename,\n",
    "            \"size\": {\n",
    "                \"width\": str(width),\n",
    "                \"height\": str(height)\n",
    "            },\n",
    "            \"object\": objects\n",
    "        }\n",
    "    }\n",
    "\n",
    "    os.makedirs(output_dir, exist_ok=True)\n",
    "    output_path = os.path.join(output_dir, f\"{filename}.json\")\n",
    "    with open(output_path, \"w\") as f:\n",
    "        json.dump(label_json, f, indent=2)\n",
    "\n",
    "    print(f\"✅ {filename}.json başarıyla oluşturuldu.\")\n"
   ]
  }
 ],
 "metadata": {
  "kernelspec": {
   "display_name": "Python 3",
   "language": "python",
   "name": "python3"
  },
  "language_info": {
   "codemirror_mode": {
    "name": "ipython",
    "version": 3
   },
   "file_extension": ".py",
   "mimetype": "text/x-python",
   "name": "python",
   "nbconvert_exporter": "python",
   "pygments_lexer": "ipython3",
   "version": "3.11.0"
  }
 },
 "nbformat": 4,
 "nbformat_minor": 5
}
